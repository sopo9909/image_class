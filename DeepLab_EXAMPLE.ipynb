{
 "cells": [
  {
   "cell_type": "markdown",
   "metadata": {
    "id": "zPhYwm9djvmu"
   },
   "source": [
    "- 참조 URL (DeepLab) : https://github.com/kazuto1011/deeplab-pytorch\n",
    "- 참조 URL (COCO dataset) : https://github.com/nightrome/cocostuff"
   ]
  },
  {
   "cell_type": "code",
   "execution_count": null,
   "metadata": {
    "colab": {
     "base_uri": "https://localhost:8080/"
    },
    "id": "0pqbqT7R-cYc",
    "outputId": "45bdca78-03c3-447f-ac9d-fe4c4ecd734f"
   },
   "outputs": [],
   "source": [
    "### COCO dataset download ###\n",
    "!wget --directory-prefix=downloads http://images.cocodataset.org/zips/val2017.zip\n",
    "!mkdir -p dataset/images\n",
    "!unzip downloads/val2017.zip -d dataset/images/\n",
    "\n",
    "### annotation data(label) 인데, train data가 포함되어 용량이 커서 download 생략 ###\n",
    "# !wget --directory-prefix=downloads http://calvin.inf.ed.ac.uk/wp-content/uploads/data/cocostuffdataset/stuffthingmaps_trainval2017.zip\n",
    "# !mkdir -p dataset/annotations\n",
    "# !unzip downloads/stuffthingmaps_trainval2017.zip -d dataset/annotations/"
   ]
  },
  {
   "cell_type": "code",
   "execution_count": null,
   "metadata": {
    "id": "eMcy_aW4f4gP"
   },
   "outputs": [],
   "source": [
    "import numpy as np\n",
    "import glob\n",
    "import cv2\n",
    "import matplotlib.pyplot as plt\n",
    "import torch\n",
    "\n",
    "### numpy image를 torch tensor로 변환하는 함수 ###\n",
    "def numpy2torch( image, use_cuda, normalize=True, diff=False ):\n",
    "    if use_cuda:\n",
    "        image_torch = torch.from_numpy(image).unsqueeze(0).transpose(1,3).transpose(2,3).cuda()\n",
    "    else:\n",
    "        image_torch = torch.from_numpy(image).unsqueeze(0).transpose(1,3).transpose(2,3)\n",
    "\n",
    "    if normalize:    \n",
    "        image_torch = image_torch.float() / 255.\n",
    "\n",
    "    return image_torch"
   ]
  },
  {
   "cell_type": "code",
   "execution_count": null,
   "metadata": {
    "colab": {
     "base_uri": "https://localhost:8080/",
     "height": 1000,
     "referenced_widgets": [
      "34d2b0d6873c4d9ab03ffe1fcfb72247",
      "c20ccf28a9d745a783f67258dc57d840",
      "ded99f672c4749d9b93246fa64348efa",
      "a0e23f73640a40d98022d5ac3315f78d",
      "fa9fa8286ec848a4af1455b2aee7661d",
      "d2f32af73ced48e4b7e227fd19cf2f17",
      "d34ffe858d244b15809876bfcf287f6f",
      "c4b511448f334e368141e86c1d6f7ac4"
     ]
    },
    "id": "Z_vpCu3fe3AB",
    "outputId": "b0c98127-ec8b-41f6-d449-12ca64a84ba8"
   },
   "outputs": [],
   "source": [
    "model = torch.hub.load(\"kazuto1011/deeplab-pytorch\", \"deeplabv2_resnet101\", pretrained='cocostuff164k', n_classes=182)\n",
    "model.cuda()\n",
    "model.eval()"
   ]
  },
  {
   "cell_type": "code",
   "execution_count": null,
   "metadata": {
    "colab": {
     "base_uri": "https://localhost:8080/",
     "height": 521
    },
    "id": "6IZyWQgwfz7U",
    "outputId": "60eb16ec-fda4-4851-887d-560ade91ef10"
   },
   "outputs": [],
   "source": [
    "file_idx = 9\n",
    "\n",
    "image_filenames = glob.glob( \"dataset/images/val2017/*.jpg\" ) # images 경로를 list로 저장\n",
    "image_filenames = sorted( image_filenames, key = lambda x : int(x.split('/')[-1].split('.')[0]) ) # filename에 맞춰 sorting\n",
    "image = cv2.imread( image_filenames[file_idx] )[..., ::-1] # BGR => RGB\n",
    "\n",
    "plt.imshow( image )\n",
    "plt.show()\n",
    "\n",
    "# label_filenames = glob.glob( \"dataset/annotations/val2017/*.png\" ) # labels 경로를 list로 저장\n",
    "# label_filenames = sorted( label_filenames, key = lambda x : int(x.split('/')[-1].split('.')[0]) ) # filename에 맞춰 sorting\n",
    "# label = cv2.imread( label_filenames[file_idx] )[..., 0] # BGR => 1 channel\n",
    "\n",
    "# plt.imshow( label )\n",
    "# plt.show()"
   ]
  },
  {
   "cell_type": "code",
   "execution_count": null,
   "metadata": {
    "id": "Je8Uk8qFlFWH"
   },
   "outputs": [],
   "source": [
    "### resize image & label ###\n",
    "resize_image = cv2.resize( image, (513, 513) )\n",
    "# resize_label = cv2.resize( label, (513, 513) )\n",
    "\n",
    "### numpy array => torch tensor ###\n",
    "torch_image = numpy2torch( resize_image, True, normalize=False )"
   ]
  },
  {
   "cell_type": "code",
   "execution_count": null,
   "metadata": {
    "colab": {
     "base_uri": "https://localhost:8080/"
    },
    "id": "ldQac5ObhFDB",
    "outputId": "c89cff3c-2401-42b1-e842-0f151cdb8777"
   },
   "outputs": [],
   "source": [
    "### inference ###\n",
    "with torch.no_grad():\n",
    "    pred = model( torch_image.float() )\n",
    "    print(pred.shape)\n",
    "\n",
    "    ### change shape (N, C, H, W) => (H, W, C) ###\n",
    "    pred = pred[0].cpu().numpy().transpose(1,2,0)\n",
    "    print(pred.shape)"
   ]
  },
  {
   "cell_type": "code",
   "execution_count": null,
   "metadata": {
    "id": "0iKYjh2JlYl7"
   },
   "outputs": [],
   "source": [
    "### probability => index ###\n",
    "max_pred = np.argmax( pred, axis=-1 ).astype(np.uint8)\n",
    "\n",
    "### resize prediction map ###\n",
    "resize_pred = cv2.resize( max_pred, (513,513), interpolation=cv2.INTER_NEAREST )"
   ]
  },
  {
   "cell_type": "code",
   "execution_count": null,
   "metadata": {
    "colab": {
     "base_uri": "https://localhost:8080/",
     "height": 1000
    },
    "id": "h5Bh0jjBhVwb",
    "outputId": "4bce4d1a-abcf-4712-b772-4b5e9738b717"
   },
   "outputs": [],
   "source": [
    "plt.figure( figsize=(8,8) )\n",
    "plt.imshow( resize_image )\n",
    "plt.imshow( resize_pred, alpha=0.5 )\n",
    "plt.show()\n",
    "\n",
    "plt.figure( figsize=(8,8) )\n",
    "plt.imshow( resize_image )\n",
    "plt.show()\n",
    "\n",
    "plt.figure( figsize=(8,8) )\n",
    "plt.imshow( resize_pred )\n",
    "plt.show()\n",
    "\n",
    "# plt.figure( figsize=(8,8) )\n",
    "# plt.imshow( resize_label )\n",
    "# plt.show()"
   ]
  },
  {
   "cell_type": "code",
   "execution_count": null,
   "metadata": {
    "id": "UxkmszZUigOS"
   },
   "outputs": [],
   "source": []
  }
 ],
 "metadata": {
  "accelerator": "GPU",
  "colab": {
   "collapsed_sections": [],
   "name": "DeepLab_EXAMPLE.ipynb",
   "provenance": []
  },
  "kernelspec": {
   "display_name": "Python 3",
   "language": "python",
   "name": "python3"
  },
  "language_info": {
   "codemirror_mode": {
    "name": "ipython",
    "version": 3
   },
   "file_extension": ".py",
   "mimetype": "text/x-python",
   "name": "python",
   "nbconvert_exporter": "python",
   "pygments_lexer": "ipython3",
   "version": "3.7.9"
  },
  "widgets": {
   "application/vnd.jupyter.widget-state+json": {
    "34d2b0d6873c4d9ab03ffe1fcfb72247": {
     "model_module": "@jupyter-widgets/controls",
     "model_name": "HBoxModel",
     "state": {
      "_dom_classes": [],
      "_model_module": "@jupyter-widgets/controls",
      "_model_module_version": "1.5.0",
      "_model_name": "HBoxModel",
      "_view_count": null,
      "_view_module": "@jupyter-widgets/controls",
      "_view_module_version": "1.5.0",
      "_view_name": "HBoxView",
      "box_style": "",
      "children": [
       "IPY_MODEL_ded99f672c4749d9b93246fa64348efa",
       "IPY_MODEL_a0e23f73640a40d98022d5ac3315f78d"
      ],
      "layout": "IPY_MODEL_c20ccf28a9d745a783f67258dc57d840"
     }
    },
    "a0e23f73640a40d98022d5ac3315f78d": {
     "model_module": "@jupyter-widgets/controls",
     "model_name": "HTMLModel",
     "state": {
      "_dom_classes": [],
      "_model_module": "@jupyter-widgets/controls",
      "_model_module_version": "1.5.0",
      "_model_name": "HTMLModel",
      "_view_count": null,
      "_view_module": "@jupyter-widgets/controls",
      "_view_module_version": "1.5.0",
      "_view_name": "HTMLView",
      "description": "",
      "description_tooltip": null,
      "layout": "IPY_MODEL_c4b511448f334e368141e86c1d6f7ac4",
      "placeholder": "​",
      "style": "IPY_MODEL_d34ffe858d244b15809876bfcf287f6f",
      "value": " 214M/214M [00:15&lt;00:00, 14.5MB/s]"
     }
    },
    "c20ccf28a9d745a783f67258dc57d840": {
     "model_module": "@jupyter-widgets/base",
     "model_name": "LayoutModel",
     "state": {
      "_model_module": "@jupyter-widgets/base",
      "_model_module_version": "1.2.0",
      "_model_name": "LayoutModel",
      "_view_count": null,
      "_view_module": "@jupyter-widgets/base",
      "_view_module_version": "1.2.0",
      "_view_name": "LayoutView",
      "align_content": null,
      "align_items": null,
      "align_self": null,
      "border": null,
      "bottom": null,
      "display": null,
      "flex": null,
      "flex_flow": null,
      "grid_area": null,
      "grid_auto_columns": null,
      "grid_auto_flow": null,
      "grid_auto_rows": null,
      "grid_column": null,
      "grid_gap": null,
      "grid_row": null,
      "grid_template_areas": null,
      "grid_template_columns": null,
      "grid_template_rows": null,
      "height": null,
      "justify_content": null,
      "justify_items": null,
      "left": null,
      "margin": null,
      "max_height": null,
      "max_width": null,
      "min_height": null,
      "min_width": null,
      "object_fit": null,
      "object_position": null,
      "order": null,
      "overflow": null,
      "overflow_x": null,
      "overflow_y": null,
      "padding": null,
      "right": null,
      "top": null,
      "visibility": null,
      "width": null
     }
    },
    "c4b511448f334e368141e86c1d6f7ac4": {
     "model_module": "@jupyter-widgets/base",
     "model_name": "LayoutModel",
     "state": {
      "_model_module": "@jupyter-widgets/base",
      "_model_module_version": "1.2.0",
      "_model_name": "LayoutModel",
      "_view_count": null,
      "_view_module": "@jupyter-widgets/base",
      "_view_module_version": "1.2.0",
      "_view_name": "LayoutView",
      "align_content": null,
      "align_items": null,
      "align_self": null,
      "border": null,
      "bottom": null,
      "display": null,
      "flex": null,
      "flex_flow": null,
      "grid_area": null,
      "grid_auto_columns": null,
      "grid_auto_flow": null,
      "grid_auto_rows": null,
      "grid_column": null,
      "grid_gap": null,
      "grid_row": null,
      "grid_template_areas": null,
      "grid_template_columns": null,
      "grid_template_rows": null,
      "height": null,
      "justify_content": null,
      "justify_items": null,
      "left": null,
      "margin": null,
      "max_height": null,
      "max_width": null,
      "min_height": null,
      "min_width": null,
      "object_fit": null,
      "object_position": null,
      "order": null,
      "overflow": null,
      "overflow_x": null,
      "overflow_y": null,
      "padding": null,
      "right": null,
      "top": null,
      "visibility": null,
      "width": null
     }
    },
    "d2f32af73ced48e4b7e227fd19cf2f17": {
     "model_module": "@jupyter-widgets/base",
     "model_name": "LayoutModel",
     "state": {
      "_model_module": "@jupyter-widgets/base",
      "_model_module_version": "1.2.0",
      "_model_name": "LayoutModel",
      "_view_count": null,
      "_view_module": "@jupyter-widgets/base",
      "_view_module_version": "1.2.0",
      "_view_name": "LayoutView",
      "align_content": null,
      "align_items": null,
      "align_self": null,
      "border": null,
      "bottom": null,
      "display": null,
      "flex": null,
      "flex_flow": null,
      "grid_area": null,
      "grid_auto_columns": null,
      "grid_auto_flow": null,
      "grid_auto_rows": null,
      "grid_column": null,
      "grid_gap": null,
      "grid_row": null,
      "grid_template_areas": null,
      "grid_template_columns": null,
      "grid_template_rows": null,
      "height": null,
      "justify_content": null,
      "justify_items": null,
      "left": null,
      "margin": null,
      "max_height": null,
      "max_width": null,
      "min_height": null,
      "min_width": null,
      "object_fit": null,
      "object_position": null,
      "order": null,
      "overflow": null,
      "overflow_x": null,
      "overflow_y": null,
      "padding": null,
      "right": null,
      "top": null,
      "visibility": null,
      "width": null
     }
    },
    "d34ffe858d244b15809876bfcf287f6f": {
     "model_module": "@jupyter-widgets/controls",
     "model_name": "DescriptionStyleModel",
     "state": {
      "_model_module": "@jupyter-widgets/controls",
      "_model_module_version": "1.5.0",
      "_model_name": "DescriptionStyleModel",
      "_view_count": null,
      "_view_module": "@jupyter-widgets/base",
      "_view_module_version": "1.2.0",
      "_view_name": "StyleView",
      "description_width": ""
     }
    },
    "ded99f672c4749d9b93246fa64348efa": {
     "model_module": "@jupyter-widgets/controls",
     "model_name": "FloatProgressModel",
     "state": {
      "_dom_classes": [],
      "_model_module": "@jupyter-widgets/controls",
      "_model_module_version": "1.5.0",
      "_model_name": "FloatProgressModel",
      "_view_count": null,
      "_view_module": "@jupyter-widgets/controls",
      "_view_module_version": "1.5.0",
      "_view_name": "ProgressView",
      "bar_style": "success",
      "description": "100%",
      "description_tooltip": null,
      "layout": "IPY_MODEL_d2f32af73ced48e4b7e227fd19cf2f17",
      "max": 224235754,
      "min": 0,
      "orientation": "horizontal",
      "style": "IPY_MODEL_fa9fa8286ec848a4af1455b2aee7661d",
      "value": 224235754
     }
    },
    "fa9fa8286ec848a4af1455b2aee7661d": {
     "model_module": "@jupyter-widgets/controls",
     "model_name": "ProgressStyleModel",
     "state": {
      "_model_module": "@jupyter-widgets/controls",
      "_model_module_version": "1.5.0",
      "_model_name": "ProgressStyleModel",
      "_view_count": null,
      "_view_module": "@jupyter-widgets/base",
      "_view_module_version": "1.2.0",
      "_view_name": "StyleView",
      "bar_color": null,
      "description_width": "initial"
     }
    }
   }
  }
 },
 "nbformat": 4,
 "nbformat_minor": 1
}
